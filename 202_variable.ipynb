{
 "cells": [
  {
   "cell_type": "code",
   "execution_count": 1,
   "metadata": {},
   "outputs": [],
   "source": [
    "import torch\n",
    "from torch.autograd import Variable"
   ]
  },
  {
   "cell_type": "code",
   "execution_count": 2,
   "metadata": {},
   "outputs": [],
   "source": [
    "tensor = torch.FloatTensor([[1, 2], [3, 4]])\n",
    "variable = Variable(tensor, requires_grad=True)  # True: compute gradient\n",
    "v_out = torch.mean(variable * variable)\n",
    "v_out.backward()"
   ]
  },
  {
   "cell_type": "code",
   "execution_count": 3,
   "metadata": {},
   "outputs": [
    {
     "name": "stdout",
     "output_type": "stream",
     "text": [
      "tensor([[ 1.,  2.],\n",
      "        [ 3.,  4.]])\n",
      "tensor([[  1.,   4.],\n",
      "        [  9.,  16.]])\n",
      "tensor(7.5000)\n",
      "tensor([[ 0.5000,  1.0000],\n",
      "        [ 1.5000,  2.0000]])\n",
      "tensor([[ 1.,  2.],\n",
      "        [ 3.,  4.]])\n",
      "[[1. 2.]\n",
      " [3. 4.]]\n"
     ]
    }
   ],
   "source": [
    "print(variable)\n",
    "print(variable * variable)  # matrix multiplication\n",
    "print(torch.mean(variable * variable))\n",
    "\n",
    "print(variable.grad)\n",
    "print(variable.data)  # variable to tensor\n",
    "print(variable.data.numpy())  # variable to tensor to numpy"
   ]
  },
  {
   "cell_type": "code",
   "execution_count": null,
   "metadata": {},
   "outputs": [],
   "source": []
  }
 ],
 "metadata": {
  "kernelspec": {
   "display_name": "Python 3",
   "language": "python",
   "name": "python3"
  },
  "language_info": {
   "codemirror_mode": {
    "name": "ipython",
    "version": 3
   },
   "file_extension": ".py",
   "mimetype": "text/x-python",
   "name": "python",
   "nbconvert_exporter": "python",
   "pygments_lexer": "ipython3",
   "version": "3.6.0"
  }
 },
 "nbformat": 4,
 "nbformat_minor": 2
}
