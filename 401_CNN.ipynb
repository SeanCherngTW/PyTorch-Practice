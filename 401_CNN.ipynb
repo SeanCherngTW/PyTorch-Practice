{
 "cells": [
  {
   "cell_type": "code",
   "execution_count": 1,
   "metadata": {},
   "outputs": [],
   "source": [
    "import torch\n",
    "import torch.nn as nn\n",
    "from torch.autograd import Variable\n",
    "import torch.utils.data as Data\n",
    "import torchvision\n",
    "import matplotlib.pyplot as plt"
   ]
  },
  {
   "cell_type": "code",
   "execution_count": 2,
   "metadata": {},
   "outputs": [],
   "source": [
    "EPOCH = 1\n",
    "BATCH_SIZE = 50\n",
    "LR = 0.001\n",
    "DOWNLOAD_MNIST = False   # set to False if you have downloaded"
   ]
  },
  {
   "cell_type": "code",
   "execution_count": 3,
   "metadata": {},
   "outputs": [],
   "source": [
    "# Mnist digits dataset\n",
    "train_data = torchvision.datasets.MNIST(\n",
    "    root='./MNIST_DATA/',\n",
    "    train=True,  # True -> training data, False -> testing data\n",
    "    # Converts a PIL.Image or numpy.ndarray to torch.FloatTensor of shape (C x H x W) and normalize in the range [0.0, 1.0]\n",
    "    transform=torchvision.transforms.ToTensor(),    \n",
    "    download=DOWNLOAD_MNIST,\n",
    ")"
   ]
  },
  {
   "cell_type": "code",
   "execution_count": 4,
   "metadata": {},
   "outputs": [
    {
     "name": "stdout",
     "output_type": "stream",
     "text": [
      "torch.Size([60000, 28, 28])\n",
      "torch.Size([60000])\n"
     ]
    },
    {
     "data": {
      "image/png": "[encoded data removed]",
      "text/plain": [
       "<Figure size 432x288 with 1 Axes>"
      ]
     },
     "metadata": {},
     "output_type": "display_data"
    }
   ],
   "source": [
    "# plot one example\n",
    "print(train_data.train_data.size())                 # (60000, 28, 28)\n",
    "print(train_data.train_labels.size())               # (60000)\n",
    "plt.imshow(train_data.train_data[0].numpy(), cmap='gray')\n",
    "plt.title('%i' % train_data.train_labels[0])\n",
    "plt.show()"
   ]
  },
  {
   "cell_type": "code",
   "execution_count": 5,
   "metadata": {},
   "outputs": [],
   "source": [
    "train_loader = Data.DataLoader(dataset=train_data, batch_size=BATCH_SIZE, shuffle=True)\n",
    "test_data = torchvision.datasets.MNIST(root='./MNIST_DATA/', train=False)\n",
    "\n",
    "# shape from (2000, 28, 28) to (2000, 1, 28, 28), value in range(0,1)\n",
    "# (2000, 1, 28, 28) = (batch_size, D, H, W)\n",
    "test_x = Variable(torch.unsqueeze(test_data.test_data, dim=1)).type(torch.FloatTensor)[:2000]/255.\n",
    "test_y = test_data.test_labels[:2000]"
   ]
  },
  {
   "cell_type": "code",
   "execution_count": 6,
   "metadata": {},
   "outputs": [
    {
     "data": {
      "text/plain": [
       "2000"
      ]
     },
     "execution_count": 6,
     "metadata": {},
     "output_type": "execute_result"
    }
   ],
   "source": [
    "len(test_x)"
   ]
  },
  {
   "cell_type": "code",
   "execution_count": 7,
   "metadata": {},
   "outputs": [],
   "source": [
    "class CNN(nn.Module):\n",
    "    def __init__(self):\n",
    "        super(CNN, self).__init__()\n",
    "        self.conv1 = nn.Sequential(         # input shape (1, 28, 28) = (D, H, W)\n",
    "            nn.Conv2d(\n",
    "                in_channels=1,              # input D\n",
    "                out_channels=16,            # output D\n",
    "                kernel_size=5,              # filter size (5x5)\n",
    "                stride=1,\n",
    "                padding=2,               \n",
    "            ),                              # Conv2d  output: (16, 28, 28)\n",
    "            nn.ReLU(),                      # ReLU    output: (16, 28, 28)\n",
    "            nn.MaxPool2d(kernel_size=2),    # Maxpool output: (16, 14, 14) since H, W = H/2, W/2\n",
    "        )\n",
    "        self.conv2 = nn.Sequential(\n",
    "            nn.Conv2d(16, 32, 5, 1, 2),     # Conv2d  output: (32, 14, 14)\n",
    "            nn.ReLU(),                      # ReLU    output: (32, 14, 14)\n",
    "            nn.MaxPool2d(2),                # Maxpool output: (32, 7, 7)\n",
    "        )\n",
    "        self.out = nn.Linear(32 * 7 * 7, 10)   # fully connected layer, output 10 classes\n",
    "\n",
    "    def forward(self, x):\n",
    "        x = self.conv1(x)\n",
    "        x = self.conv2(x)\n",
    "        x = x.view(x.size(0), -1)        # flatten the output of conv2 to (batch_size, 32 * 7 * 7)\n",
    "        output = self.out(x)\n",
    "        return output  # return x for visualization"
   ]
  },
  {
   "cell_type": "code",
   "execution_count": 8,
   "metadata": {},
   "outputs": [
    {
     "name": "stdout",
     "output_type": "stream",
     "text": [
      "CNN(\n",
      "  (conv1): Sequential(\n",
      "    (0): Conv2d(1, 16, kernel_size=(5, 5), stride=(1, 1), padding=(2, 2))\n",
      "    (1): ReLU()\n",
      "    (2): MaxPool2d(kernel_size=2, stride=2, padding=0, dilation=1, ceil_mode=False)\n",
      "  )\n",
      "  (conv2): Sequential(\n",
      "    (0): Conv2d(16, 32, kernel_size=(5, 5), stride=(1, 1), padding=(2, 2))\n",
      "    (1): ReLU()\n",
      "    (2): MaxPool2d(kernel_size=2, stride=2, padding=0, dilation=1, ceil_mode=False)\n",
      "  )\n",
      "  (out): Linear(in_features=1568, out_features=10, bias=True)\n",
      ")\n"
     ]
    }
   ],
   "source": [
    "cnn = CNN()\n",
    "print(cnn)"
   ]
  },
  {
   "cell_type": "code",
   "execution_count": 9,
   "metadata": {},
   "outputs": [],
   "source": [
    "optimizer = torch.optim.Adam(cnn.parameters(), lr=LR)\n",
    "loss_func = nn.CrossEntropyLoss() "
   ]
  },
  {
   "cell_type": "code",
   "execution_count": 10,
   "metadata": {},
   "outputs": [
    {
     "name": "stdout",
     "output_type": "stream",
     "text": [
      "Step: 0000 | test loss: 2.2959 | test accuracy: 0.1285\n",
      "Step: 0050 | test loss: 0.5473 | test accuracy: 0.8250\n",
      "Step: 0100 | test loss: 0.3644 | test accuracy: 0.8925\n",
      "Step: 0150 | test loss: 0.2810 | test accuracy: 0.9180\n",
      "Step: 0200 | test loss: 0.2249 | test accuracy: 0.9335\n",
      "Step: 0250 | test loss: 0.1933 | test accuracy: 0.9445\n",
      "Step: 0300 | test loss: 0.1817 | test accuracy: 0.9385\n",
      "Step: 0350 | test loss: 0.1489 | test accuracy: 0.9530\n",
      "Step: 0400 | test loss: 0.1439 | test accuracy: 0.9570\n",
      "Step: 0450 | test loss: 0.1272 | test accuracy: 0.9620\n",
      "Step: 0500 | test loss: 0.1186 | test accuracy: 0.9650\n",
      "Step: 0550 | test loss: 0.1475 | test accuracy: 0.9535\n",
      "Step: 0600 | test loss: 0.1084 | test accuracy: 0.9655\n",
      "Step: 0650 | test loss: 0.1183 | test accuracy: 0.9655\n",
      "Step: 0700 | test loss: 0.0960 | test accuracy: 0.9715\n",
      "Step: 0750 | test loss: 0.0812 | test accuracy: 0.9730\n",
      "Step: 0800 | test loss: 0.0795 | test accuracy: 0.9770\n",
      "Step: 0850 | test loss: 0.0831 | test accuracy: 0.9735\n",
      "Step: 0900 | test loss: 0.0773 | test accuracy: 0.9785\n",
      "Step: 0950 | test loss: 0.0701 | test accuracy: 0.9775\n",
      "Step: 1000 | test loss: 0.0833 | test accuracy: 0.9740\n",
      "Step: 1050 | test loss: 0.0720 | test accuracy: 0.9780\n",
      "Step: 1100 | test loss: 0.0842 | test accuracy: 0.9740\n",
      "Step: 1150 | test loss: 0.0820 | test accuracy: 0.9740\n"
     ]
    }
   ],
   "source": [
    "for epoch in range(EPOCH):\n",
    "    for step, (batch_x, batch_y) in enumerate(train_loader):\n",
    "        batch_x = Variable(batch_x)  # batch x\n",
    "        batch_y = Variable(batch_y)  # batch y\n",
    "        \n",
    "        batch_y_hat = cnn(batch_x)  # input x to the NN\n",
    "        loss = loss_func(batch_y_hat, batch_y)\n",
    "        optimizer.zero_grad()\n",
    "        loss.backward()\n",
    "        optimizer.step()\n",
    "        \n",
    "        if step % 50 == 0:\n",
    "            test_y_hat = cnn(test_x)\n",
    "            test_loss = loss_func(test_y_hat, test_y)\n",
    "            pred_y = torch.max(test_y_hat, 1)[1].data.squeeze()\n",
    "            accuracy = (pred_y == test_y).sum().item() / float(test_y.size(0))\n",
    "            print('Step: %04d | test loss: %.4f | test accuracy: %.4f' % (step, test_loss, accuracy))"
   ]
  },
  {
   "cell_type": "code",
   "execution_count": null,
   "metadata": {},
   "outputs": [],
   "source": []
  }
 ],
 "metadata": {
  "kernelspec": {
   "display_name": "Python 3",
   "language": "python",
   "name": "python3"
  },
  "language_info": {
   "codemirror_mode": {
    "name": "ipython",
    "version": 3
   },
   "file_extension": ".py",
   "mimetype": "text/x-python",
   "name": "python",
   "nbconvert_exporter": "python",
   "pygments_lexer": "ipython3",
   "version": "3.6.0"
  }
 },
 "nbformat": 4,
 "nbformat_minor": 2
}
