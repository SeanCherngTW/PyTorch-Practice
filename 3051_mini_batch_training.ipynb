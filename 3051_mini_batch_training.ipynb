{
 "cells": [
  {
   "cell_type": "code",
   "execution_count": 6,
   "metadata": {},
   "outputs": [],
   "source": [
    "import torch\n",
    "import torch.utils.data as Data"
   ]
  },
  {
   "cell_type": "code",
   "execution_count": 17,
   "metadata": {},
   "outputs": [],
   "source": [
    "x = torch.linspace(1, 10, 10)\n",
    "y = torch.linspace(10, 1, 10)\n",
    "torch_dataset = Data.TensorDataset(x, y)\n",
    "loader = Data.DataLoader(\n",
    "    dataset=torch_dataset,\n",
    "    batch_size=7,\n",
    "    shuffle=True,\n",
    "    num_workers=2,\n",
    ")"
   ]
  },
  {
   "cell_type": "code",
   "execution_count": 18,
   "metadata": {},
   "outputs": [
    {
     "name": "stdout",
     "output_type": "stream",
     "text": [
      "epoch: 0\n",
      "step: 0\n",
      "batch_x tensor([  3.,   8.,   9.,   6.,   2.,   1.,  10.])\n",
      "batch_y tensor([  8.,   3.,   2.,   5.,   9.,  10.,   1.])\n",
      "step: 1\n",
      "batch_x tensor([ 5.,  7.,  4.])\n",
      "batch_y tensor([ 6.,  4.,  7.])\n",
      "\n",
      "epoch: 1\n",
      "step: 0\n",
      "batch_x tensor([ 5.,  7.,  1.,  3.,  8.,  4.,  6.])\n",
      "batch_y tensor([  6.,   4.,  10.,   8.,   3.,   7.,   5.])\n",
      "step: 1\n",
      "batch_x tensor([  9.,  10.,   2.])\n",
      "batch_y tensor([ 2.,  1.,  9.])\n",
      "\n",
      "epoch: 2\n",
      "step: 0\n",
      "batch_x tensor([  8.,   7.,   2.,  10.,   9.,   3.,   6.])\n",
      "batch_y tensor([ 3.,  4.,  9.,  1.,  2.,  8.,  5.])\n",
      "step: 1\n",
      "batch_x tensor([ 1.,  5.,  4.])\n",
      "batch_y tensor([ 10.,   6.,   7.])\n",
      "\n"
     ]
    }
   ],
   "source": [
    "for epoch in range(3):\n",
    "    print('epoch: %d' % epoch)\n",
    "    for step, (batch_x, batch_y) in enumerate(loader):\n",
    "        print('step: %d' % step)\n",
    "        print('batch_x', batch_x)\n",
    "        print('batch_y', batch_y)\n",
    "    print()"
   ]
  },
  {
   "cell_type": "code",
   "execution_count": null,
   "metadata": {},
   "outputs": [],
   "source": []
  }
 ],
 "metadata": {
  "kernelspec": {
   "display_name": "Python 3",
   "language": "python",
   "name": "python3"
  },
  "language_info": {
   "codemirror_mode": {
    "name": "ipython",
    "version": 3
   },
   "file_extension": ".py",
   "mimetype": "text/x-python",
   "name": "python",
   "nbconvert_exporter": "python",
   "pygments_lexer": "ipython3",
   "version": "3.6.0"
  }
 },
 "nbformat": 4,
 "nbformat_minor": 2
}
