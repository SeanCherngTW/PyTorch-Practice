{
 "cells": [
  {
   "cell_type": "code",
   "execution_count": 1,
   "metadata": {},
   "outputs": [],
   "source": [
    "import torch\n",
    "import numpy as np"
   ]
  },
  {
   "cell_type": "code",
   "execution_count": 2,
   "metadata": {},
   "outputs": [
    {
     "name": "stdout",
     "output_type": "stream",
     "text": [
      "numpy\n",
      " [[0 1 2]\n",
      " [3 4 5]] \n",
      "torch\n",
      " tensor([[ 0,  1,  2],\n",
      "        [ 3,  4,  5]]) \n",
      "torch2np\n",
      " [[0 1 2]\n",
      " [3 4 5]]\n"
     ]
    }
   ],
   "source": [
    "# numpy to torch tensor\n",
    "np_data = np.arange(6).reshape((2, 3))\n",
    "torch_data = torch.from_numpy(np_data)\n",
    "torch2np = torch_data.numpy()\n",
    "print(\n",
    "    'numpy\\n', np_data,\n",
    "    '\\ntorch\\n', torch_data,\n",
    "    '\\ntorch2np\\n', torch2np\n",
    ")"
   ]
  },
  {
   "cell_type": "code",
   "execution_count": 3,
   "metadata": {},
   "outputs": [
    {
     "name": "stdout",
     "output_type": "stream",
     "text": [
      "list\n",
      " [1, -2, 3, -4] \n",
      "torch\n",
      " tensor([ 1., -2.,  3., -4.])\n"
     ]
    }
   ],
   "source": [
    "# list to torch tensor\n",
    "list_data = [1, -2, 3, -4]\n",
    "torch_data = torch.FloatTensor(list_data)  # float-32\n",
    "print(\n",
    "    'list\\n', list_data,\n",
    "    '\\ntorch\\n', torch_data,\n",
    ")"
   ]
  },
  {
   "cell_type": "code",
   "execution_count": 4,
   "metadata": {},
   "outputs": [
    {
     "name": "stdout",
     "output_type": "stream",
     "text": [
      "mm\n",
      " tensor([[  7.,  10.],\n",
      "        [ 15.,  22.]]) \n",
      "avg\n",
      " tensor(2.5000)\n"
     ]
    }
   ],
   "source": [
    "# Matrix multiplication\n",
    "data = [[1, 2], [3, 4]]\n",
    "tensor = torch.FloatTensor(data)  # float-32\n",
    "print(\n",
    "    'mm\\n', torch.mm(tensor, tensor),\n",
    "    '\\navg\\n', torch.mean(tensor)\n",
    ")"
   ]
  },
  {
   "cell_type": "code",
   "execution_count": null,
   "metadata": {},
   "outputs": [],
   "source": []
  }
 ],
 "metadata": {
  "kernelspec": {
   "display_name": "Python 3",
   "language": "python",
   "name": "python3"
  },
  "language_info": {
   "codemirror_mode": {
    "name": "ipython",
    "version": 3
   },
   "file_extension": ".py",
   "mimetype": "text/x-python",
   "name": "python",
   "nbconvert_exporter": "python",
   "pygments_lexer": "ipython3",
   "version": "3.6.0"
  }
 },
 "nbformat": 4,
 "nbformat_minor": 2
}
